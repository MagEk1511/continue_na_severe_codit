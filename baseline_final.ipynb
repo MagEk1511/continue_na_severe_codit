{
  "cells": [
    {
      "cell_type": "markdown",
      "source": [
        "# Для пользователя\n",
        "\n"
      ],
      "metadata": {
        "id": "7UaODim_KaKe"
      },
      "id": "7UaODim_KaKe"
    },
    {
      "cell_type": "markdown",
      "source": [
        "Запустите ячейку ниже и вводите ваши данные\n",
        "\n",
        "Для завершения ввода необходимо ввести пустую строку\n"
      ],
      "metadata": {
        "id": "n-5BUC5ZKhm5"
      },
      "id": "n-5BUC5ZKhm5"
    },
    {
      "cell_type": "code",
      "source": [
        "#Пользователь должен через Enter вводить свои строки.\n",
        "list = []\n",
        "tmp = input()\n",
        "while tmp:\n",
        "  list.append(tmp)\n",
        "  tmp = input()\n",
        "User_X = list\n",
        "User_X"
      ],
      "metadata": {
        "colab": {
          "base_uri": "https://localhost:8080/"
        },
        "id": "2picaTzNKdgl",
        "outputId": "753507e1-9535-4676-871f-7f1d411b82f6"
      },
      "id": "2picaTzNKdgl",
      "execution_count": 71,
      "outputs": [
        {
          "name": "stdout",
          "output_type": "stream",
          "text": [
            "123\n",
            "123\n",
            "\n"
          ]
        },
        {
          "output_type": "execute_result",
          "data": {
            "text/plain": [
              "['123', '123']"
            ]
          },
          "metadata": {},
          "execution_count": 71
        }
      ]
    },
    {
      "cell_type": "markdown",
      "source": [
        "# 1. Обработка файлов"
      ],
      "metadata": {
        "id": "DR9Srs421ouD"
      },
      "id": "DR9Srs421ouD"
    },
    {
      "cell_type": "code",
      "execution_count": 5,
      "id": "e4e78a14",
      "metadata": {
        "id": "e4e78a14"
      },
      "outputs": [],
      "source": [
        "import pandas as pd"
      ]
    },
    {
      "cell_type": "code",
      "execution_count": 24,
      "id": "f226dd10",
      "metadata": {
        "id": "f226dd10"
      },
      "outputs": [],
      "source": [
        "import requests\n",
        "from bs4 import BeautifulSoup\n",
        "\n",
        "# Функция для загрузки HTML-страницы и извлечения текста\n",
        "def load_and_extract_text(url):\n",
        "    try:\n",
        "        response = requests.get(url)\n",
        "        soup = BeautifulSoup(response.text, 'html.parser')\n",
        "        text = soup.get_text()\n",
        "        return text\n",
        "    except Exception as e:\n",
        "        print(f\"Произошла ошибка при загрузке или обработке страницы: {e}\")\n",
        "        return None\n",
        "\n",
        "# Функция для разделения текста на строки из 150 слов\n",
        "def split_text_into_lines(text, max_words_per_line=133):\n",
        "    words = text.split()\n",
        "    lines = []\n",
        "    current_line = \"\"\n",
        "\n",
        "    for word in words:\n",
        "        if len(current_line.split()) < max_words_per_line:\n",
        "            current_line += word + \" \"\n",
        "        else:\n",
        "            lines.append(current_line.strip())\n",
        "            current_line = word + \" \"\n",
        "\n",
        "    if current_line:\n",
        "        lines.append(current_line.strip())\n",
        "\n",
        "    return lines"
      ]
    },
    {
      "cell_type": "code",
      "execution_count": 25,
      "id": "1ab0cece",
      "metadata": {
        "colab": {
          "base_uri": "https://localhost:8080/"
        },
        "id": "1ab0cece",
        "outputId": "fa389b2a-b77d-4183-a8f8-f649b8e8b7d3"
      },
      "outputs": [
        {
          "output_type": "stream",
          "name": "stdout",
          "text": [
            "188 188\n"
          ]
        }
      ],
      "source": [
        "lines_sum_without_html = []\n",
        "lines_sum_with_html = []\n",
        "adreses = ['https://www.w3.org/International/articles/serving-xhtml/index.ru.html',\n",
        "          'https://webstool.ru/laravel-ru-lang.html',\n",
        "          'https://kotlinlang.ru/docs/lambdas.html',\n",
        "          'https://remoteplay.dl.playstation.net/remoteplay/lang/ru/index.html',\n",
        "          'https://github.com/rust-lang-ru/rustycrate.ru/blob/master/articles-education.html',\n",
        "          'http://pro-lang.ru/novosti.html',\n",
        "          'https://doc.rust-lang.ru/book/ch03-03-how-functions-work.html',\n",
        "          'http://nmr.ioc.ac.ru/First_Info.html',\n",
        "          'http://www.tehsovet.ru/news-4092.html',\n",
        "          'https://lk.fss.ru/FAQ.html',\n",
        "          'https://www.ilo.org/moscow/areas-of-work/occupational-safety-and-health/WCMS_305901/lang--ru/index.htm',\n",
        "          'https://www.nic.ru/help/format-zagolovka-zaprosa_3585.html',\n",
        "          'https://vestiprim.ru/livettv/135961-transljacija-kruglosutochno-kamery-ustanovleny-u-puteprovoda-v-rajone-kiparisovo.html',\n",
        "          'https://vestiprim.ru/livettv/135961-transljacija-kruglosutochno-kamery-ustanovleny-u-puteprovoda-v-rajone-kiparisovo.html',\n",
        "          'https://www.nic.ru/help/ru-rf-su-domeny-3-go-urovnya_3600.html',\n",
        "          'https://codeguide.academy/html-css.html',\n",
        "          'https://docs.scala-lang.org/ru/tour/tour-of-scala.html',\n",
        "          'https://west-ru.ru/ru/services/manufacturing-systems/components/lang-tube-tec.html',\n",
        "          'https://valaam.com/ru/kontakty.html',\n",
        "          'http://csppm.ru/nashe_podmoskovie.html',\n",
        "          'https://www.fragrantica.ru/designers/Ulrich-Lang.html',\n",
        "          'https://boscooutlet.ru/brands/woman/helmut-lang.html',\n",
        "          'https://www.ukraine.com.ua/uk/forum/seo/yazikovie-versii-sajta-kak-pra.html',\n",
        "          'https://www.freenom.com/ru/index.html']\n",
        "\n",
        "for url in adreses:\n",
        "    text = load_and_extract_text(url)\n",
        "    lines_with_html = split_text_into_lines(text, max_words_per_line=133)\n",
        "    lines_without_html = [BeautifulSoup(line, 'html.parser').get_text() for line in lines_with_html]\n",
        "\n",
        "    lines_sum_without_html += lines_without_html\n",
        "    lines_sum_with_html += lines_with_html\n",
        "\n",
        "print(len(lines_sum_without_html), len(lines_sum_with_html))"
      ]
    },
    {
      "cell_type": "code",
      "execution_count": 26,
      "id": "fdd20fbd",
      "metadata": {
        "id": "fdd20fbd"
      },
      "outputs": [],
      "source": [
        "X = pd.read_csv('raw_labels_50.csv')\n",
        "Y = pd.read_csv('true_labels_50.csv')"
      ]
    },
    {
      "cell_type": "code",
      "source": [],
      "metadata": {
        "id": "YYdUDjUsKBI5"
      },
      "id": "YYdUDjUsKBI5",
      "execution_count": null,
      "outputs": []
    },
    {
      "cell_type": "code",
      "execution_count": 27,
      "id": "695aa6fb",
      "metadata": {
        "colab": {
          "base_uri": "https://localhost:8080/"
        },
        "id": "695aa6fb",
        "outputId": "ac711633-80f0-47d2-b7b0-d18a09c7d45e"
      },
      "outputs": [
        {
          "output_type": "stream",
          "name": "stdout",
          "text": [
            "                                Неправильный вариант\n",
            "0  Этапы отбора:1. Подача заявок (до 19 июня);2. ...\n",
            "                                  Правильный вариант\n",
            "0  <ul>\\n  <li><b>Этапы отбора:</b></li>\\n  <li>1...\n"
          ]
        }
      ],
      "source": [
        "print(X.head(1))\n",
        "print(Y.head(1))"
      ]
    },
    {
      "cell_type": "code",
      "execution_count": 28,
      "id": "865e30f3",
      "metadata": {
        "colab": {
          "base_uri": "https://localhost:8080/"
        },
        "id": "865e30f3",
        "outputId": "c87289e1-4048-413a-ac60-9dbecda75af1"
      },
      "outputs": [
        {
          "output_type": "stream",
          "name": "stdout",
          "text": [
            "Этапы отбора:1. Подача заявок (до 19 июня);2. Онлайн тестирование на личностные качества (до 22 июня);3. Интервью по компетенциям (до 30 июня).\n",
            "['<ul>\\n  <li><b>Этапы отбора:</b></li>\\n  <li>1. Подача заявок (до 19 июня);</li>\\n  <li>2. Онлайн тестирование на личностные качества (до 22 июня);</li>\\n  <li>3. Интервью по компетенциям (до 30 июня).</li>\\n</ul>']\n"
          ]
        }
      ],
      "source": [
        "def dataframe_strings(df):\n",
        "    return [df.iloc[i][0] for i in range(df.shape[0])]\n",
        "\n",
        "X_text = dataframe_strings(X)\n",
        "Y_text = dataframe_strings(Y)\n",
        "print(X_text[0])\n",
        "print([Y_text[0]])"
      ]
    },
    {
      "cell_type": "code",
      "execution_count": 29,
      "id": "63201fdf",
      "metadata": {
        "colab": {
          "base_uri": "https://localhost:8080/"
        },
        "id": "63201fdf",
        "outputId": "f7a66fdd-a3ad-40d1-9410-999bfc680a47"
      },
      "outputs": [
        {
          "output_type": "stream",
          "name": "stdout",
          "text": [
            "<ul> <li><b>Этапы отбора:</b></li> <li>1. Подача заявок (до 19 июня);</li> <li>2. Онлайн тестирование на личностные качества (до 22 июня);</li> <li>3. Интервью по компетенциям (до 30 июня).</li> </ul> <p>По всем вопросам вы можете обращаться по эл. почте <b>mobility@avcrf.ru</b>, в теме письма необходимо указать <b>«Лаборатория экотроп. Байкальск»</b></p> <p>Некоторые из волонтерских задач:</p> <ol> <li>Привлечение заинтересованных лиц и организаций, а также лидеров общественного мнения к поддержке инициатив проекта.</li> <li>Взаимодействие с партнерами проекта, участие в партнерских мероприятиях.</li> <li>Сопровождение деловых, научных, культурно-массовых и просветительских мероприятий.</li> <li>Обеспечение информационной поддержки проекта.</li> <li>Популяризация инициатив проекта.</li> </ol> <p><b>Обязательными требованиями к волонтерам являются:</b></p> <ul> <li>возраст кандидата не менее 18 лет (на момент подачи заявки);</li> <li>гражданство Российской Федерации;</li> <li>владение английским языком на уровне Intermediate (B1) и выше;</li> </ul> <p><b>Сроки привлечения волонтеров:</b> с 29 августа по 9 сентября 2022</p> <p><b>Этапы отбора:</b></p> <ul> <li>Подача заявок (до 17 апреля);</li>\n",
            "\n",
            " Этапы отбора: 1. Подача заявок (до 19 июня); 2. Онлайн тестирование на личностные качества (до 22 июня); 3. Интервью по компетенциям (до 30 июня).  По всем вопросам вы можете обращаться по эл. почте mobility@avcrf.ru, в теме письма необходимо указать «Лаборатория экотроп. Байкальск» Некоторые из волонтерских задач:  Привлечение заинтересованных лиц и организаций, а также лидеров общественного мнения к поддержке инициатив проекта. Взаимодействие с партнерами проекта, участие в партнерских мероприятиях. Сопровождение деловых, научных, культурно-массовых и просветительских мероприятий. Обеспечение информационной поддержки проекта. Популяризация инициатив проекта.  Обязательными требованиями к волонтерам являются:  возраст кандидата не менее 18 лет (на момент подачи заявки); гражданство Российской Федерации; владение английским языком на уровне Intermediate (B1) и выше;  Сроки привлечения волонтеров: с 29 августа по 9 сентября 2022 Этапы отбора:  Подача заявок (до 17 апреля);\n"
          ]
        }
      ],
      "source": [
        "Y_100 = ' '.join(Y_text)\n",
        "Y_100_text = split_text_into_lines(Y_100)\n",
        "X_100_text = [BeautifulSoup(line, 'html.parser').get_text() for line in Y_100_text]\n",
        "print(Y_100_text[0])\n",
        "print()\n",
        "print(X_100_text[0])"
      ]
    },
    {
      "cell_type": "markdown",
      "source": [
        "Вычисление расстояния Левенштейна"
      ],
      "metadata": {
        "id": "1Ssw5GjF3jDd"
      },
      "id": "1Ssw5GjF3jDd"
    },
    {
      "cell_type": "code",
      "execution_count": 30,
      "id": "dada669b",
      "metadata": {
        "id": "dada669b"
      },
      "outputs": [],
      "source": [
        "%%capture\n",
        "!pip install python-Levenshtein\n",
        "import Levenshtein"
      ]
    },
    {
      "cell_type": "code",
      "execution_count": 31,
      "id": "a6fa5ae3",
      "metadata": {
        "colab": {
          "base_uri": "https://localhost:8080/"
        },
        "id": "a6fa5ae3",
        "outputId": "af769243-1305-4bd1-d1ed-68e8d5ede887"
      },
      "outputs": [
        {
          "output_type": "execute_result",
          "data": {
            "text/plain": [
              "3250"
            ]
          },
          "metadata": {},
          "execution_count": 31
        }
      ],
      "source": [
        "# X, Y - lists of strings\n",
        "def Levenshtein_metric(X, Y):\n",
        "    sum_levenshtein_distance = 0\n",
        "    for i in range(len(X)):\n",
        "        distance = Levenshtein.distance(X[0], Y[0])\n",
        "        sum_levenshtein_distance += distance\n",
        "\n",
        "    return sum_levenshtein_distance\n",
        "\n",
        "\n",
        "Levenshtein_metric(X_text, Y_text)"
      ]
    },
    {
      "cell_type": "code",
      "execution_count": 32,
      "id": "b69d5838",
      "metadata": {
        "colab": {
          "base_uri": "https://localhost:8080/"
        },
        "id": "b69d5838",
        "outputId": "a71b7890-3ca0-4e89-84f6-cbdd75aa1957"
      },
      "outputs": [
        {
          "output_type": "stream",
          "name": "stdout",
          "text": [
            "13985 17709\n"
          ]
        }
      ],
      "source": [
        "def count_of_symbols(list_of_strings):\n",
        "    sum_len_strs = 0\n",
        "\n",
        "    for i in range(len(list_of_strings)):\n",
        "        sum_len_strs += len(str(list_of_strings[i]))\n",
        "\n",
        "    return sum_len_strs\n",
        "\n",
        "print(count_of_symbols(X_text), count_of_symbols(Y_text))"
      ]
    },
    {
      "cell_type": "markdown",
      "id": "97e3ec4d",
      "metadata": {
        "id": "97e3ec4d"
      },
      "source": [
        "# 2. Tokenization"
      ]
    },
    {
      "cell_type": "code",
      "execution_count": 33,
      "id": "5ac2e681",
      "metadata": {
        "id": "5ac2e681"
      },
      "outputs": [],
      "source": [
        "import tensorflow as tf\n",
        "from tensorflow.keras.preprocessing.text import Tokenizer\n",
        "from tensorflow.keras.preprocessing.sequence import pad_sequences"
      ]
    },
    {
      "cell_type": "code",
      "execution_count": 34,
      "id": "ad6ce52f",
      "metadata": {
        "id": "ad6ce52f"
      },
      "outputs": [],
      "source": [
        "# Инициализируем токенизатор для обработки текста\n",
        "tokenizer = Tokenizer(filters='')\n",
        "tokenizer.fit_on_texts(X_text + Y_text + User_X)"
      ]
    },
    {
      "cell_type": "code",
      "execution_count": 35,
      "id": "5d47e008",
      "metadata": {
        "colab": {
          "base_uri": "https://localhost:8080/"
        },
        "id": "5d47e008",
        "outputId": "484da84a-b040-4078-dd68-90299502fd31"
      },
      "outputs": [
        {
          "output_type": "stream",
          "name": "stdout",
          "text": [
            "[813, 814, 204, 79, 12, 205, 815, 206, 80, 3, 81, 82, 12, 83, 816, 207, 4, 208, 12, 209, 817]\n",
            "[23, 1098, 1099, 1100, 204, 79, 12, 205, 199, 1101, 206, 80, 3, 81, 82, 12, 83, 199, 1102, 207, 4, 208, 12, 209, 1103]\n"
          ]
        }
      ],
      "source": [
        "# Подготавливаем данные для обучения\n",
        "source_sequences = tokenizer.texts_to_sequences(X_text)\n",
        "target_sequences = tokenizer.texts_to_sequences(Y_text)\n",
        "user_sequences = tokenizer.texts_to_sequences(User_X)\n",
        "print(source_sequences[0])\n",
        "print(target_sequences[0])"
      ]
    },
    {
      "cell_type": "code",
      "execution_count": 36,
      "id": "97620f66",
      "metadata": {
        "colab": {
          "base_uri": "https://localhost:8080/"
        },
        "id": "97620f66",
        "outputId": "4780d900-7cd3-4918-8c7f-4645e898c8a5"
      },
      "outputs": [
        {
          "output_type": "stream",
          "name": "stdout",
          "text": [
            "[813 814 204  79  12 205 815 206  80   3  81  82  12  83 816 207   4 208\n",
            "  12 209 817   0   0   0   0   0   0   0   0   0   0   0   0   0   0   0\n",
            "   0   0   0   0   0   0   0   0   0   0   0   0   0   0   0   0   0   0\n",
            "   0   0   0   0   0   0   0   0   0   0   0   0   0   0   0   0   0   0\n",
            "   0   0   0   0   0   0   0   0   0   0   0   0   0   0   0   0   0   0\n",
            "   0   0   0   0   0   0   0   0   0   0   0   0   0   0   0   0   0   0\n",
            "   0   0   0   0   0   0   0   0   0   0   0   0   0   0   0   0   0   0\n",
            "   0   0   0   0   0   0   0]\n",
            "[  23 1098 1099 1100  204   79   12  205  199 1101  206   80    3   81\n",
            "   82   12   83  199 1102  207    4  208   12  209 1103    0    0    0\n",
            "    0    0    0    0    0    0    0    0    0    0    0    0    0    0\n",
            "    0    0    0    0    0    0    0    0    0    0    0    0    0    0\n",
            "    0    0    0    0    0    0    0    0    0    0    0    0    0    0\n",
            "    0    0    0    0    0    0    0    0    0    0    0    0    0    0\n",
            "    0    0    0    0    0    0    0    0    0    0    0    0    0    0\n",
            "    0    0    0    0    0    0    0    0    0    0    0    0    0    0\n",
            "    0    0    0    0    0    0    0    0    0    0    0    0    0    0\n",
            "    0    0    0    0    0    0    0]\n"
          ]
        }
      ],
      "source": [
        "# Определяем максимальную длину последовательности\n",
        "max_sequence_length = max(len(seq) for seq in source_sequences+target_sequences+user_sequences)\n",
        "\n",
        "# Дополняем последовательности до максимальной длины\n",
        "source_pad = pad_sequences(source_sequences, maxlen=max_sequence_length, padding='post')\n",
        "target_pad = pad_sequences(target_sequences, maxlen=max_sequence_length, padding='post')\n",
        "user_pad = pad_sequences(user_sequences, maxlen=max_sequence_length, padding='post')\n",
        "\n",
        "print(source_pad[0])\n",
        "print(target_pad[0])"
      ]
    },
    {
      "cell_type": "code",
      "execution_count": 37,
      "id": "fea29548",
      "metadata": {
        "colab": {
          "base_uri": "https://localhost:8080/"
        },
        "id": "fea29548",
        "outputId": "f63c21cc-39c3-4306-ebb2-55c8320de709"
      },
      "outputs": [
        {
          "output_type": "stream",
          "name": "stdout",
          "text": [
            "Epoch 1/10\n",
            "2/2 - 4s - loss: 7.3031 - accuracy: 7.5188e-04 - 4s/epoch - 2s/step\n",
            "Epoch 2/10\n",
            "2/2 - 1s - loss: 7.2968 - accuracy: 0.2517 - 609ms/epoch - 304ms/step\n",
            "Epoch 3/10\n",
            "2/2 - 1s - loss: 7.2901 - accuracy: 0.7266 - 559ms/epoch - 279ms/step\n",
            "Epoch 4/10\n",
            "2/2 - 1s - loss: 7.2830 - accuracy: 0.7275 - 518ms/epoch - 259ms/step\n",
            "Epoch 5/10\n",
            "2/2 - 1s - loss: 7.2750 - accuracy: 0.7277 - 730ms/epoch - 365ms/step\n",
            "Epoch 6/10\n",
            "2/2 - 1s - loss: 7.2649 - accuracy: 0.7275 - 966ms/epoch - 483ms/step\n",
            "Epoch 7/10\n",
            "2/2 - 1s - loss: 7.2520 - accuracy: 0.7275 - 1s/epoch - 501ms/step\n",
            "Epoch 8/10\n",
            "2/2 - 1s - loss: 7.2344 - accuracy: 0.7275 - 752ms/epoch - 376ms/step\n",
            "Epoch 9/10\n",
            "2/2 - 1s - loss: 7.2096 - accuracy: 0.7275 - 668ms/epoch - 334ms/step\n",
            "Epoch 10/10\n",
            "2/2 - 1s - loss: 7.1717 - accuracy: 0.7275 - 567ms/epoch - 284ms/step\n"
          ]
        },
        {
          "output_type": "execute_result",
          "data": {
            "text/plain": [
              "<keras.src.callbacks.History at 0x79b6fe7a84c0>"
            ]
          },
          "metadata": {},
          "execution_count": 37
        }
      ],
      "source": [
        "# Создаем модель RNN\n",
        "model = tf.keras.Sequential([\n",
        "    tf.keras.layers.Embedding(input_dim=len(tokenizer.word_index) + 1, output_dim=16, input_length=max_sequence_length),\n",
        "    tf.keras.layers.LSTM(32, return_sequences=True),\n",
        "    tf.keras.layers.Dense(len(tokenizer.word_index) + 1, activation='softmax')\n",
        "])\n",
        "\n",
        "# Компилируем модель\n",
        "model.compile(optimizer='adam', loss='sparse_categorical_crossentropy', metrics=['accuracy'])\n",
        "\n",
        "# Обучаем модель на исходных и целевых последовательностях\n",
        "model.fit(source_pad, target_pad, epochs=10, verbose=2)"
      ]
    },
    {
      "cell_type": "code",
      "execution_count": 38,
      "id": "86a838f9",
      "metadata": {
        "colab": {
          "base_uri": "https://localhost:8080/"
        },
        "id": "86a838f9",
        "outputId": "bd417eb4-2eac-4caf-d83d-945748310d46"
      },
      "outputs": [
        {
          "output_type": "stream",
          "name": "stdout",
          "text": [
            "1/1 [==============================] - 1s 1s/step\n"
          ]
        },
        {
          "output_type": "execute_result",
          "data": {
            "text/plain": [
              "array([[[0.00070457, 0.00070463, 0.00070398, ..., 0.00067228,\n",
              "         0.00067288, 0.00067399],\n",
              "        [0.00070795, 0.00070706, 0.00070623, ..., 0.00067127,\n",
              "         0.00067343, 0.00067428],\n",
              "        [0.00071146, 0.0007113 , 0.00070938, ..., 0.00067068,\n",
              "         0.00067253, 0.00067476],\n",
              "        ...,\n",
              "        [0.00086725, 0.0008025 , 0.0008335 , ..., 0.00065167,\n",
              "         0.00068087, 0.00069224],\n",
              "        [0.00086726, 0.0008025 , 0.00083351, ..., 0.00065167,\n",
              "         0.00068087, 0.00069224],\n",
              "        [0.00086726, 0.0008025 , 0.00083351, ..., 0.00065167,\n",
              "         0.00068087, 0.00069224]]], dtype=float32)"
            ]
          },
          "metadata": {},
          "execution_count": 38
        }
      ],
      "source": [
        "# Проверяем работу модели на примере\n",
        "input_text = [X_text[0]]\n",
        "\n",
        "# Преобразуем входной текст в последовательность чисел\n",
        "input_test = tokenizer.texts_to_sequences(input_text)\n",
        "input_test_pad = pad_sequences(input_test, maxlen=max_sequence_length, padding='post')\n",
        "\n",
        "# Получаем предсказание от модели\n",
        "predicted_sequence = model.predict(input_test_pad)\n",
        "\n",
        "predicted_sequence"
      ]
    },
    {
      "cell_type": "code",
      "execution_count": 39,
      "id": "08759925",
      "metadata": {
        "colab": {
          "base_uri": "https://localhost:8080/"
        },
        "id": "08759925",
        "outputId": "a8f7c7f4-dbf6-4409-c69d-03bf265a2d45"
      },
      "outputs": [
        {
          "output_type": "execute_result",
          "data": {
            "text/plain": [
              "<tf.Tensor: shape=(1, 133), dtype=int64, numpy=\n",
              "array([[1, 0, 0, 0, 0, 0, 0, 0, 0, 0, 0, 0, 0, 0, 0, 0, 0, 0, 0, 0, 0, 0,\n",
              "        0, 0, 0, 0, 0, 0, 0, 0, 0, 0, 0, 0, 0, 0, 0, 0, 0, 0, 0, 0, 0, 0,\n",
              "        0, 0, 0, 0, 0, 0, 0, 0, 0, 0, 0, 0, 0, 0, 0, 0, 0, 0, 0, 0, 0, 0,\n",
              "        0, 0, 0, 0, 0, 0, 0, 0, 0, 0, 0, 0, 0, 0, 0, 0, 0, 0, 0, 0, 0, 0,\n",
              "        0, 0, 0, 0, 0, 0, 0, 0, 0, 0, 0, 0, 0, 0, 0, 0, 0, 0, 0, 0, 0, 0,\n",
              "        0, 0, 0, 0, 0, 0, 0, 0, 0, 0, 0, 0, 0, 0, 0, 0, 0, 0, 0, 0, 0, 0,\n",
              "        0]])>"
            ]
          },
          "metadata": {},
          "execution_count": 39
        }
      ],
      "source": [
        "tf.argmax(predicted_sequence, axis=2)"
      ]
    },
    {
      "cell_type": "code",
      "execution_count": 40,
      "id": "909d14e8",
      "metadata": {
        "colab": {
          "base_uri": "https://localhost:8080/"
        },
        "id": "909d14e8",
        "outputId": "aaff1460-cf84-439e-9f1c-cdc4694fce05"
      },
      "outputs": [
        {
          "output_type": "execute_result",
          "data": {
            "text/plain": [
              "['в в в в в в в в в в в в в в в в в в в в в в в в в в в в в в в в в в в в в в в в в в в в в в в в в в в в в в в в в в в в в в в в в в в в в в в в в в в в в в в в в в в в в в в в в в в в в в в в в в в в в в в в в в в в в в в в в в в в в в в в в в в в в в в в']"
            ]
          },
          "metadata": {},
          "execution_count": 40
        }
      ],
      "source": [
        "#Из тензора с токенами в слова\n",
        "import numpy as np\n",
        "def tensor_to_text(tensor):\n",
        "    return tokenizer.sequences_to_texts([[np.array(arr[1:]).argmax() for arr in tensor_1] for tensor_1 in tensor])\n",
        "\n",
        "tensor_to_text(predicted_sequence)"
      ]
    },
    {
      "cell_type": "code",
      "execution_count": 41,
      "id": "dd60a71a",
      "metadata": {
        "colab": {
          "base_uri": "https://localhost:8080/"
        },
        "id": "dd60a71a",
        "outputId": "7d1cc196-4cba-49ca-b998-84ced816ca3f"
      },
      "outputs": [
        {
          "output_type": "stream",
          "name": "stdout",
          "text": [
            "в в в в в в в в в в в в в в в в в в в в в в в в в в в в в в в в в в в в в в в в в в в в в в в в в в в в в в в в в в в в в в в в в в в в в в в в в в в в в в в в в в в в в в в в в в в в в в в в в в в в в в в в в в в в в в в в в в в в в в в в в в в в в в в в\n"
          ]
        }
      ],
      "source": [
        "Y_1 = model(source_pad)\n",
        "Y_1_text = tensor_to_text(Y_1)\n",
        "print(Y_1_text[0])"
      ]
    },
    {
      "cell_type": "code",
      "execution_count": 42,
      "id": "587f10ad",
      "metadata": {
        "colab": {
          "base_uri": "https://localhost:8080/"
        },
        "id": "587f10ad",
        "outputId": "50e1003c-9954-4409-8031-13b50428a787"
      },
      "outputs": [
        {
          "output_type": "execute_result",
          "data": {
            "text/plain": [
              "11150"
            ]
          },
          "metadata": {},
          "execution_count": 42
        }
      ],
      "source": [
        "Levenshtein_metric(Y_1_text, Y_text)"
      ]
    },
    {
      "cell_type": "markdown",
      "id": "0f0d8564",
      "metadata": {
        "id": "0f0d8564"
      },
      "source": [
        "#3. Эксперименты с loses"
      ]
    },
    {
      "cell_type": "code",
      "execution_count": 43,
      "id": "4d7be803",
      "metadata": {
        "colab": {
          "base_uri": "https://localhost:8080/"
        },
        "id": "4d7be803",
        "outputId": "1517f40d-b78b-40a2-fdb6-a47a1b65a08e"
      },
      "outputs": [
        {
          "output_type": "execute_result",
          "data": {
            "text/plain": [
              "1482"
            ]
          },
          "metadata": {},
          "execution_count": 43
        }
      ],
      "source": [
        "len(tokenizer.word_index)"
      ]
    },
    {
      "cell_type": "code",
      "execution_count": 44,
      "id": "a2c2be0f",
      "metadata": {
        "id": "a2c2be0f"
      },
      "outputs": [],
      "source": [
        "# Создаем модель RNN\n",
        "model = tf.keras.Sequential([\n",
        "    tf.keras.layers.Embedding(input_dim=len(tokenizer.word_index) + 1, output_dim=16, input_length=max_sequence_length),\n",
        "    tf.keras.layers.LSTM(32, return_sequences=True),\n",
        "    tf.keras.layers.Dense(len(tokenizer.word_index) + 1, activation='softmax')#,\n",
        "    # tf.keras.layers.Lambda(lambda x: tf.argmax(x, axis=2)),\n",
        "    # tf.keras.layers.Lambda(lambda x: tokenizer.sequences_to_texts(np.array(x)))\n",
        "])"
      ]
    },
    {
      "cell_type": "code",
      "execution_count": 45,
      "id": "23cd3f56",
      "metadata": {
        "id": "23cd3f56"
      },
      "outputs": [],
      "source": [
        "# Компилируем модель\n",
        "loss = tf.losses.SparseCategoricalCrossentropy()\n",
        "model.compile(optimizer='adam', loss=loss, metrics=['accuracy'])"
      ]
    },
    {
      "cell_type": "code",
      "execution_count": 46,
      "id": "16af96d3",
      "metadata": {
        "colab": {
          "base_uri": "https://localhost:8080/"
        },
        "id": "16af96d3",
        "outputId": "b762af57-b97d-4d36-82bb-61491f477dfc"
      },
      "outputs": [
        {
          "output_type": "stream",
          "name": "stdout",
          "text": [
            "Epoch 1/10\n",
            "2/2 - 7s - loss: 7.3045 - accuracy: 6.0150e-04 - 7s/epoch - 3s/step\n",
            "Epoch 2/10\n",
            "2/2 - 1s - loss: 7.2974 - accuracy: 0.0298 - 1s/epoch - 520ms/step\n",
            "Epoch 3/10\n",
            "2/2 - 1s - loss: 7.2905 - accuracy: 0.7280 - 1s/epoch - 578ms/step\n",
            "Epoch 4/10\n",
            "2/2 - 1s - loss: 7.2833 - accuracy: 0.7275 - 738ms/epoch - 369ms/step\n",
            "Epoch 5/10\n",
            "2/2 - 1s - loss: 7.2752 - accuracy: 0.7275 - 593ms/epoch - 296ms/step\n",
            "Epoch 6/10\n",
            "2/2 - 1s - loss: 7.2658 - accuracy: 0.7275 - 632ms/epoch - 316ms/step\n",
            "Epoch 7/10\n",
            "2/2 - 1s - loss: 7.2542 - accuracy: 0.7275 - 613ms/epoch - 307ms/step\n",
            "Epoch 8/10\n",
            "2/2 - 1s - loss: 7.2393 - accuracy: 0.7275 - 582ms/epoch - 291ms/step\n",
            "Epoch 9/10\n",
            "2/2 - 1s - loss: 7.2189 - accuracy: 0.7275 - 569ms/epoch - 284ms/step\n",
            "Epoch 10/10\n",
            "2/2 - 1s - loss: 7.1884 - accuracy: 0.7275 - 742ms/epoch - 371ms/step\n"
          ]
        },
        {
          "output_type": "execute_result",
          "data": {
            "text/plain": [
              "<keras.src.callbacks.History at 0x79b7059e5de0>"
            ]
          },
          "metadata": {},
          "execution_count": 46
        }
      ],
      "source": [
        "# Обучаем модель на исходных и целевых последовательностях\n",
        "model.fit(np.array(source_pad, dtype='int64'), np.round(target_pad).astype('int64'), epochs=10, verbose=2)"
      ]
    },
    {
      "cell_type": "code",
      "execution_count": 47,
      "id": "011d649e",
      "metadata": {
        "colab": {
          "base_uri": "https://localhost:8080/"
        },
        "id": "011d649e",
        "outputId": "21cd5cb1-c1f8-4af2-a440-9305fa998086"
      },
      "outputs": [
        {
          "output_type": "execute_result",
          "data": {
            "text/plain": [
              "array([  23, 1098, 1099, 1100,  204,   79,   12,  205,  199, 1101,  206,\n",
              "         80,    3,   81,   82,   12,   83,  199, 1102,  207,    4,  208,\n",
              "         12,  209, 1103,    0,    0,    0,    0,    0,    0,    0,    0,\n",
              "          0,    0,    0,    0,    0,    0,    0,    0,    0,    0,    0,\n",
              "          0,    0,    0,    0,    0,    0,    0,    0,    0,    0,    0,\n",
              "          0,    0,    0,    0,    0,    0,    0,    0,    0,    0,    0,\n",
              "          0,    0,    0,    0,    0,    0,    0,    0,    0,    0,    0,\n",
              "          0,    0,    0,    0,    0,    0,    0,    0,    0,    0,    0,\n",
              "          0,    0,    0,    0,    0,    0,    0,    0,    0,    0,    0,\n",
              "          0,    0,    0,    0,    0,    0,    0,    0,    0,    0,    0,\n",
              "          0,    0,    0,    0,    0,    0,    0,    0,    0,    0,    0,\n",
              "          0,    0,    0,    0,    0,    0,    0,    0,    0,    0,    0,\n",
              "          0])"
            ]
          },
          "metadata": {},
          "execution_count": 47
        }
      ],
      "source": [
        "np.array(target_pad, dtype='int64')[0]"
      ]
    },
    {
      "cell_type": "code",
      "execution_count": 48,
      "id": "253fda48",
      "metadata": {
        "id": "253fda48"
      },
      "outputs": [],
      "source": [
        "# Инициализируем токенизатор для обработки текста\n",
        "tokenizer = Tokenizer(filters='')\n",
        "tokenizer.fit_on_texts(X_text + Y_text + User_X + lines_sum_without_html + lines_sum_with_html)\n",
        "\n",
        "# Подготавливаем данные для обучения\n",
        "source_sequences = tokenizer.texts_to_sequences(X_text + lines_sum_without_html)\n",
        "user_sequences = tokenizer.texts_to_sequences(User_x + lines_sum_without_html)\n",
        "target_sequences = tokenizer.texts_to_sequences(Y_text + lines_sum_with_html)\n",
        "\n",
        "# Определяем максимальную длину последовательности\n",
        "max_sequence_length = max(len(seq) for seq in source_sequences+target_sequences+user_sequences)\n",
        "\n",
        "# Дополняем последовательности до максимальной длины\n",
        "source_pad = pad_sequences(source_sequences, maxlen=max_sequence_length, padding='post')\n",
        "user_pad = pad_sequences(user_sequences, maxlen=max_sequence_length, padding='post')\n",
        "target_pad = pad_sequences(target_sequences, maxlen=max_sequence_length, padding='post')"
      ]
    },
    {
      "cell_type": "code",
      "execution_count": 49,
      "id": "00177d42",
      "metadata": {
        "colab": {
          "base_uri": "https://localhost:8080/"
        },
        "id": "00177d42",
        "outputId": "9c585ab0-704b-49cc-9453-6da0608ce443"
      },
      "outputs": [
        {
          "output_type": "stream",
          "name": "stdout",
          "text": [
            "Epoch 1/10\n",
            "8/8 - 12s - loss: 9.3061 - accuracy: 0.0881 - 12s/epoch - 1s/step\n",
            "Epoch 2/10\n",
            "8/8 - 9s - loss: 9.2958 - accuracy: 0.2094 - 9s/epoch - 1s/step\n",
            "Epoch 3/10\n",
            "8/8 - 8s - loss: 9.2743 - accuracy: 0.2079 - 8s/epoch - 1s/step\n",
            "Epoch 4/10\n",
            "8/8 - 10s - loss: 9.1746 - accuracy: 0.2076 - 10s/epoch - 1s/step\n",
            "Epoch 5/10\n",
            "8/8 - 16s - loss: 8.9490 - accuracy: 0.2076 - 16s/epoch - 2s/step\n",
            "Epoch 6/10\n",
            "8/8 - 13s - loss: 8.7247 - accuracy: 0.2076 - 13s/epoch - 2s/step\n",
            "Epoch 7/10\n",
            "8/8 - 10s - loss: 8.5004 - accuracy: 0.2076 - 10s/epoch - 1s/step\n",
            "Epoch 8/10\n",
            "8/8 - 10s - loss: 8.2913 - accuracy: 0.2076 - 10s/epoch - 1s/step\n",
            "Epoch 9/10\n",
            "8/8 - 9s - loss: 8.0962 - accuracy: 0.2076 - 9s/epoch - 1s/step\n",
            "Epoch 10/10\n",
            "8/8 - 10s - loss: 7.9367 - accuracy: 0.2076 - 10s/epoch - 1s/step\n"
          ]
        },
        {
          "output_type": "execute_result",
          "data": {
            "text/plain": [
              "<keras.src.callbacks.History at 0x79b6feeea7d0>"
            ]
          },
          "metadata": {},
          "execution_count": 49
        }
      ],
      "source": [
        "# Создаем модель RNN\n",
        "model = tf.keras.Sequential([\n",
        "    tf.keras.layers.Embedding(input_dim=len(tokenizer.word_index) + 1, output_dim=16, input_length=max_sequence_length),\n",
        "    tf.keras.layers.LSTM(32, return_sequences=True),\n",
        "    tf.keras.layers.Dense(len(tokenizer.word_index) + 1, activation='softmax')#,\n",
        "    # tf.keras.layers.Lambda(lambda x: tf.argmax(x, axis=2)),\n",
        "    # tf.keras.layers.Lambda(lambda x: tokenizer.sequences_to_texts(np.array(x)))\n",
        "])\n",
        "\n",
        "# Компилируем модель\n",
        "loss = tf.losses.SparseCategoricalCrossentropy()\n",
        "model.compile(optimizer='adam', loss=loss, metrics=['accuracy'])\n",
        "\n",
        "# Обучаем модель на исходных и целевых последовательностях\n",
        "model.fit(np.array(source_pad, dtype='int64'), np.round(target_pad).astype('int64'), epochs=10, verbose=2)"
      ]
    },
    {
      "cell_type": "code",
      "execution_count": 50,
      "id": "b08fc369",
      "metadata": {
        "id": "b08fc369"
      },
      "outputs": [],
      "source": [
        "import requests\n",
        "\n",
        "response = requests.get('https://raw.githubusercontent.com/danakt/russian-words/master/russian.txt')\n",
        "\n",
        "text = response.content.decode('cp1251')\n",
        "\n",
        "with open('russian.txt', 'wb') as ru:\n",
        "    ru.write(text.encode('utf-8'))\n",
        "\n",
        "response = requests.get('https://raw.githubusercontent.com/danakt/russian-words/master/russian_surnames.txt')\n",
        "\n",
        "text = response.content.decode('cp1251')\n",
        "\n",
        "with open('russian_surnames.txt', 'wb') as ru:\n",
        "    ru.write(text.encode('utf-8'))"
      ]
    },
    {
      "cell_type": "markdown",
      "source": [
        "# 4. Обработка приватного датасета"
      ],
      "metadata": {
        "id": "x1GgJ1X12oB9"
      },
      "id": "x1GgJ1X12oB9"
    },
    {
      "cell_type": "code",
      "execution_count": 51,
      "id": "bcbd8408",
      "metadata": {
        "colab": {
          "base_uri": "https://localhost:8080/"
        },
        "id": "bcbd8408",
        "outputId": "7064ba30-d847-4f24-8a13-1e9d213368a5"
      },
      "outputs": [
        {
          "output_type": "execute_result",
          "data": {
            "text/plain": [
              "array([[ 196,  311,  312, ...,    0,    0,    0],\n",
              "       [  40,  322,   17, ...,    0,    0,    0],\n",
              "       [ 106,  202,   20, ...,    0,    0,    0],\n",
              "       ...,\n",
              "       [2414,   54, 2415, ...,    0,    0,    0],\n",
              "       [ 372,   24, 2425, ...,    0,    0,    0],\n",
              "       [2433, 2434, 2435, ...,    0,    0,    0]], dtype=int32)"
            ]
          },
          "metadata": {},
          "execution_count": 51
        }
      ],
      "source": [
        "hak = pd.read_csv('raw_labels_150.csv')\n",
        "hak_text = dataframe_strings(hak)\n",
        "\n",
        "# Инициализируем токенизатор для обработки текста\n",
        "tokenizer = Tokenizer(filters='')\n",
        "tokenizer.fit_on_texts(hak_text)\n",
        "\n",
        "# Подготавливаем данные для обучения\n",
        "source_hak = tokenizer.texts_to_sequences(hak_text)\n",
        "\n",
        "# Определяем максимальную длину последовательности\n",
        "max_sequence_length = 133\n",
        "\n",
        "# Дополняем последовательности до максимальной длины\n",
        "hak_pad = pad_sequences(source_hak, maxlen=max_sequence_length, padding='post')\n",
        "\n",
        "hak_pad"
      ]
    },
    {
      "cell_type": "code",
      "execution_count": 52,
      "id": "3715d2ba",
      "metadata": {
        "colab": {
          "base_uri": "https://localhost:8080/"
        },
        "id": "3715d2ba",
        "outputId": "523c2ded-7e46-4719-bd78-fa606c4ae535"
      },
      "outputs": [
        {
          "output_type": "stream",
          "name": "stdout",
          "text": [
            "5/5 [==============================] - 2s 298ms/step\n"
          ]
        },
        {
          "output_type": "execute_result",
          "data": {
            "text/plain": [
              "150"
            ]
          },
          "metadata": {},
          "execution_count": 52
        }
      ],
      "source": [
        "hak_predict = model.predict(hak_pad)\n",
        "hak_text = tensor_to_text(hak_predict)\n",
        "len(hak_text)"
      ]
    },
    {
      "cell_type": "code",
      "execution_count": 53,
      "id": "0e29d908",
      "metadata": {
        "id": "0e29d908"
      },
      "outputs": [],
      "source": [
        "pd.DataFrame(hak_text).to_csv ('answer.csv', index= False )"
      ]
    },
    {
      "cell_type": "markdown",
      "id": "29c05c25",
      "metadata": {
        "id": "29c05c25"
      },
      "source": [
        "# Ровно по 100 слов если сделать"
      ]
    },
    {
      "cell_type": "code",
      "execution_count": 72,
      "id": "b392490f",
      "metadata": {
        "id": "b392490f"
      },
      "outputs": [],
      "source": [
        "# Инициализируем токенизатор для обработки текста\n",
        "tokenizer = Tokenizer(filters='')\n",
        "tokenizer.fit_on_texts(X_100_text + Y_100_text + User_X)\n",
        "\n",
        "# Подготавливаем данные для обучения\n",
        "source_100 = tokenizer.texts_to_sequences(X_100_text)\n",
        "target_100 = tokenizer.texts_to_sequences(Y_100_text)\n",
        "\n",
        "# Определяем максимальную длину последовательности\n",
        "max_sequence_length = max(len(seq) for seq in source_100+target_100)\n",
        "\n",
        "# Дополняем последовательности до максимальной длины\n",
        "source_100_pad = pad_sequences(source_100, maxlen=max_sequence_length, padding='post')\n",
        "target_100_pad = pad_sequences(target_100, maxlen=max_sequence_length, padding='post')"
      ]
    },
    {
      "cell_type": "code",
      "execution_count": 73,
      "id": "05297e84",
      "metadata": {
        "colab": {
          "base_uri": "https://localhost:8080/",
          "height": 436
        },
        "id": "05297e84",
        "outputId": "1a592892-f9db-44eb-a247-2959fec43194"
      },
      "outputs": [
        {
          "output_type": "stream",
          "name": "stdout",
          "text": [
            "Epoch 1/2000\n"
          ]
        },
        {
          "output_type": "error",
          "ename": "KeyboardInterrupt",
          "evalue": "ignored",
          "traceback": [
            "\u001b[0;31m---------------------------------------------------------------------------\u001b[0m",
            "\u001b[0;31mKeyboardInterrupt\u001b[0m                         Traceback (most recent call last)",
            "\u001b[0;32m<ipython-input-73-3430060e2bfb>\u001b[0m in \u001b[0;36m<cell line: 17>\u001b[0;34m()\u001b[0m\n\u001b[1;32m     15\u001b[0m \u001b[0;34m\u001b[0m\u001b[0m\n\u001b[1;32m     16\u001b[0m \u001b[0;31m# Обучаем модель на исходных и целевых последовательностях\u001b[0m\u001b[0;34m\u001b[0m\u001b[0;34m\u001b[0m\u001b[0m\n\u001b[0;32m---> 17\u001b[0;31m \u001b[0mmodel\u001b[0m\u001b[0;34m.\u001b[0m\u001b[0mfit\u001b[0m\u001b[0;34m(\u001b[0m\u001b[0mnp\u001b[0m\u001b[0;34m.\u001b[0m\u001b[0marray\u001b[0m\u001b[0;34m(\u001b[0m\u001b[0msource_100_pad\u001b[0m\u001b[0;34m,\u001b[0m \u001b[0mdtype\u001b[0m\u001b[0;34m=\u001b[0m\u001b[0;34m'int64'\u001b[0m\u001b[0;34m)\u001b[0m\u001b[0;34m,\u001b[0m \u001b[0mnp\u001b[0m\u001b[0;34m.\u001b[0m\u001b[0mround\u001b[0m\u001b[0;34m(\u001b[0m\u001b[0mtarget_100_pad\u001b[0m\u001b[0;34m)\u001b[0m\u001b[0;34m.\u001b[0m\u001b[0mastype\u001b[0m\u001b[0;34m(\u001b[0m\u001b[0;34m'int64'\u001b[0m\u001b[0;34m)\u001b[0m\u001b[0;34m,\u001b[0m \u001b[0mepochs\u001b[0m\u001b[0;34m=\u001b[0m\u001b[0;36m2000\u001b[0m\u001b[0;34m,\u001b[0m \u001b[0mverbose\u001b[0m\u001b[0;34m=\u001b[0m\u001b[0;36m2\u001b[0m\u001b[0;34m)\u001b[0m\u001b[0;34m\u001b[0m\u001b[0;34m\u001b[0m\u001b[0m\n\u001b[0m\u001b[1;32m     18\u001b[0m \u001b[0mmodel\u001b[0m\u001b[0;34m.\u001b[0m\u001b[0msave\u001b[0m\u001b[0;34m(\u001b[0m\u001b[0;34m'/content/my_model.keras'\u001b[0m\u001b[0;34m)\u001b[0m\u001b[0;34m\u001b[0m\u001b[0;34m\u001b[0m\u001b[0m\n",
            "\u001b[0;32m/usr/local/lib/python3.10/dist-packages/keras/src/utils/traceback_utils.py\u001b[0m in \u001b[0;36merror_handler\u001b[0;34m(*args, **kwargs)\u001b[0m\n\u001b[1;32m     63\u001b[0m         \u001b[0mfiltered_tb\u001b[0m \u001b[0;34m=\u001b[0m \u001b[0;32mNone\u001b[0m\u001b[0;34m\u001b[0m\u001b[0;34m\u001b[0m\u001b[0m\n\u001b[1;32m     64\u001b[0m         \u001b[0;32mtry\u001b[0m\u001b[0;34m:\u001b[0m\u001b[0;34m\u001b[0m\u001b[0;34m\u001b[0m\u001b[0m\n\u001b[0;32m---> 65\u001b[0;31m             \u001b[0;32mreturn\u001b[0m \u001b[0mfn\u001b[0m\u001b[0;34m(\u001b[0m\u001b[0;34m*\u001b[0m\u001b[0margs\u001b[0m\u001b[0;34m,\u001b[0m \u001b[0;34m**\u001b[0m\u001b[0mkwargs\u001b[0m\u001b[0;34m)\u001b[0m\u001b[0;34m\u001b[0m\u001b[0;34m\u001b[0m\u001b[0m\n\u001b[0m\u001b[1;32m     66\u001b[0m         \u001b[0;32mexcept\u001b[0m \u001b[0mException\u001b[0m \u001b[0;32mas\u001b[0m \u001b[0me\u001b[0m\u001b[0;34m:\u001b[0m\u001b[0;34m\u001b[0m\u001b[0;34m\u001b[0m\u001b[0m\n\u001b[1;32m     67\u001b[0m             \u001b[0mfiltered_tb\u001b[0m \u001b[0;34m=\u001b[0m \u001b[0m_process_traceback_frames\u001b[0m\u001b[0;34m(\u001b[0m\u001b[0me\u001b[0m\u001b[0;34m.\u001b[0m\u001b[0m__traceback__\u001b[0m\u001b[0;34m)\u001b[0m\u001b[0;34m\u001b[0m\u001b[0;34m\u001b[0m\u001b[0m\n",
            "\u001b[0;32m/usr/local/lib/python3.10/dist-packages/keras/src/engine/training.py\u001b[0m in \u001b[0;36mfit\u001b[0;34m(self, x, y, batch_size, epochs, verbose, callbacks, validation_split, validation_data, shuffle, class_weight, sample_weight, initial_epoch, steps_per_epoch, validation_steps, validation_batch_size, validation_freq, max_queue_size, workers, use_multiprocessing)\u001b[0m\n\u001b[1;32m   1740\u001b[0m                         ):\n\u001b[1;32m   1741\u001b[0m                             \u001b[0mcallbacks\u001b[0m\u001b[0;34m.\u001b[0m\u001b[0mon_train_batch_begin\u001b[0m\u001b[0;34m(\u001b[0m\u001b[0mstep\u001b[0m\u001b[0;34m)\u001b[0m\u001b[0;34m\u001b[0m\u001b[0;34m\u001b[0m\u001b[0m\n\u001b[0;32m-> 1742\u001b[0;31m                             \u001b[0mtmp_logs\u001b[0m \u001b[0;34m=\u001b[0m \u001b[0mself\u001b[0m\u001b[0;34m.\u001b[0m\u001b[0mtrain_function\u001b[0m\u001b[0;34m(\u001b[0m\u001b[0miterator\u001b[0m\u001b[0;34m)\u001b[0m\u001b[0;34m\u001b[0m\u001b[0;34m\u001b[0m\u001b[0m\n\u001b[0m\u001b[1;32m   1743\u001b[0m                             \u001b[0;32mif\u001b[0m \u001b[0mdata_handler\u001b[0m\u001b[0;34m.\u001b[0m\u001b[0mshould_sync\u001b[0m\u001b[0;34m:\u001b[0m\u001b[0;34m\u001b[0m\u001b[0;34m\u001b[0m\u001b[0m\n\u001b[1;32m   1744\u001b[0m                                 \u001b[0mcontext\u001b[0m\u001b[0;34m.\u001b[0m\u001b[0masync_wait\u001b[0m\u001b[0;34m(\u001b[0m\u001b[0;34m)\u001b[0m\u001b[0;34m\u001b[0m\u001b[0;34m\u001b[0m\u001b[0m\n",
            "\u001b[0;32m/usr/local/lib/python3.10/dist-packages/tensorflow/python/util/traceback_utils.py\u001b[0m in \u001b[0;36merror_handler\u001b[0;34m(*args, **kwargs)\u001b[0m\n\u001b[1;32m    148\u001b[0m     \u001b[0mfiltered_tb\u001b[0m \u001b[0;34m=\u001b[0m \u001b[0;32mNone\u001b[0m\u001b[0;34m\u001b[0m\u001b[0;34m\u001b[0m\u001b[0m\n\u001b[1;32m    149\u001b[0m     \u001b[0;32mtry\u001b[0m\u001b[0;34m:\u001b[0m\u001b[0;34m\u001b[0m\u001b[0;34m\u001b[0m\u001b[0m\n\u001b[0;32m--> 150\u001b[0;31m       \u001b[0;32mreturn\u001b[0m \u001b[0mfn\u001b[0m\u001b[0;34m(\u001b[0m\u001b[0;34m*\u001b[0m\u001b[0margs\u001b[0m\u001b[0;34m,\u001b[0m \u001b[0;34m**\u001b[0m\u001b[0mkwargs\u001b[0m\u001b[0;34m)\u001b[0m\u001b[0;34m\u001b[0m\u001b[0;34m\u001b[0m\u001b[0m\n\u001b[0m\u001b[1;32m    151\u001b[0m     \u001b[0;32mexcept\u001b[0m \u001b[0mException\u001b[0m \u001b[0;32mas\u001b[0m \u001b[0me\u001b[0m\u001b[0;34m:\u001b[0m\u001b[0;34m\u001b[0m\u001b[0;34m\u001b[0m\u001b[0m\n\u001b[1;32m    152\u001b[0m       \u001b[0mfiltered_tb\u001b[0m \u001b[0;34m=\u001b[0m \u001b[0m_process_traceback_frames\u001b[0m\u001b[0;34m(\u001b[0m\u001b[0me\u001b[0m\u001b[0;34m.\u001b[0m\u001b[0m__traceback__\u001b[0m\u001b[0;34m)\u001b[0m\u001b[0;34m\u001b[0m\u001b[0;34m\u001b[0m\u001b[0m\n",
            "\u001b[0;32m/usr/local/lib/python3.10/dist-packages/tensorflow/python/eager/polymorphic_function/polymorphic_function.py\u001b[0m in \u001b[0;36m__call__\u001b[0;34m(self, *args, **kwds)\u001b[0m\n\u001b[1;32m    823\u001b[0m \u001b[0;34m\u001b[0m\u001b[0m\n\u001b[1;32m    824\u001b[0m       \u001b[0;32mwith\u001b[0m \u001b[0mOptionalXlaContext\u001b[0m\u001b[0;34m(\u001b[0m\u001b[0mself\u001b[0m\u001b[0;34m.\u001b[0m\u001b[0m_jit_compile\u001b[0m\u001b[0;34m)\u001b[0m\u001b[0;34m:\u001b[0m\u001b[0;34m\u001b[0m\u001b[0;34m\u001b[0m\u001b[0m\n\u001b[0;32m--> 825\u001b[0;31m         \u001b[0mresult\u001b[0m \u001b[0;34m=\u001b[0m \u001b[0mself\u001b[0m\u001b[0;34m.\u001b[0m\u001b[0m_call\u001b[0m\u001b[0;34m(\u001b[0m\u001b[0;34m*\u001b[0m\u001b[0margs\u001b[0m\u001b[0;34m,\u001b[0m \u001b[0;34m**\u001b[0m\u001b[0mkwds\u001b[0m\u001b[0;34m)\u001b[0m\u001b[0;34m\u001b[0m\u001b[0;34m\u001b[0m\u001b[0m\n\u001b[0m\u001b[1;32m    826\u001b[0m \u001b[0;34m\u001b[0m\u001b[0m\n\u001b[1;32m    827\u001b[0m       \u001b[0mnew_tracing_count\u001b[0m \u001b[0;34m=\u001b[0m \u001b[0mself\u001b[0m\u001b[0;34m.\u001b[0m\u001b[0mexperimental_get_tracing_count\u001b[0m\u001b[0;34m(\u001b[0m\u001b[0;34m)\u001b[0m\u001b[0;34m\u001b[0m\u001b[0;34m\u001b[0m\u001b[0m\n",
            "\u001b[0;32m/usr/local/lib/python3.10/dist-packages/tensorflow/python/eager/polymorphic_function/polymorphic_function.py\u001b[0m in \u001b[0;36m_call\u001b[0;34m(self, *args, **kwds)\u001b[0m\n\u001b[1;32m    888\u001b[0m         \u001b[0;31m# Lifting succeeded, so variables are initialized and we can run the\u001b[0m\u001b[0;34m\u001b[0m\u001b[0;34m\u001b[0m\u001b[0m\n\u001b[1;32m    889\u001b[0m         \u001b[0;31m# no_variable_creation function.\u001b[0m\u001b[0;34m\u001b[0m\u001b[0;34m\u001b[0m\u001b[0m\n\u001b[0;32m--> 890\u001b[0;31m         \u001b[0;32mreturn\u001b[0m \u001b[0mself\u001b[0m\u001b[0;34m.\u001b[0m\u001b[0m_no_variable_creation_fn\u001b[0m\u001b[0;34m(\u001b[0m\u001b[0;34m*\u001b[0m\u001b[0margs\u001b[0m\u001b[0;34m,\u001b[0m \u001b[0;34m**\u001b[0m\u001b[0mkwds\u001b[0m\u001b[0;34m)\u001b[0m\u001b[0;34m\u001b[0m\u001b[0;34m\u001b[0m\u001b[0m\n\u001b[0m\u001b[1;32m    891\u001b[0m     \u001b[0;32melse\u001b[0m\u001b[0;34m:\u001b[0m\u001b[0;34m\u001b[0m\u001b[0;34m\u001b[0m\u001b[0m\n\u001b[1;32m    892\u001b[0m       _, _, filtered_flat_args = (\n",
            "\u001b[0;32m/usr/local/lib/python3.10/dist-packages/tensorflow/python/eager/polymorphic_function/tracing_compiler.py\u001b[0m in \u001b[0;36m__call__\u001b[0;34m(self, *args, **kwargs)\u001b[0m\n\u001b[1;32m    146\u001b[0m       (concrete_function,\n\u001b[1;32m    147\u001b[0m        filtered_flat_args) = self._maybe_define_function(args, kwargs)\n\u001b[0;32m--> 148\u001b[0;31m     return concrete_function._call_flat(\n\u001b[0m\u001b[1;32m    149\u001b[0m         filtered_flat_args, captured_inputs=concrete_function.captured_inputs)  # pylint: disable=protected-access\n\u001b[1;32m    150\u001b[0m \u001b[0;34m\u001b[0m\u001b[0m\n",
            "\u001b[0;32m/usr/local/lib/python3.10/dist-packages/tensorflow/python/eager/polymorphic_function/monomorphic_function.py\u001b[0m in \u001b[0;36m_call_flat\u001b[0;34m(self, args, captured_inputs)\u001b[0m\n\u001b[1;32m   1347\u001b[0m         and executing_eagerly):\n\u001b[1;32m   1348\u001b[0m       \u001b[0;31m# No tape is watching; skip to running the function.\u001b[0m\u001b[0;34m\u001b[0m\u001b[0;34m\u001b[0m\u001b[0m\n\u001b[0;32m-> 1349\u001b[0;31m       \u001b[0;32mreturn\u001b[0m \u001b[0mself\u001b[0m\u001b[0;34m.\u001b[0m\u001b[0m_build_call_outputs\u001b[0m\u001b[0;34m(\u001b[0m\u001b[0mself\u001b[0m\u001b[0;34m.\u001b[0m\u001b[0m_inference_function\u001b[0m\u001b[0;34m(\u001b[0m\u001b[0;34m*\u001b[0m\u001b[0margs\u001b[0m\u001b[0;34m)\u001b[0m\u001b[0;34m)\u001b[0m\u001b[0;34m\u001b[0m\u001b[0;34m\u001b[0m\u001b[0m\n\u001b[0m\u001b[1;32m   1350\u001b[0m     forward_backward = self._select_forward_and_backward_functions(\n\u001b[1;32m   1351\u001b[0m         \u001b[0margs\u001b[0m\u001b[0;34m,\u001b[0m\u001b[0;34m\u001b[0m\u001b[0;34m\u001b[0m\u001b[0m\n",
            "\u001b[0;32m/usr/local/lib/python3.10/dist-packages/tensorflow/python/eager/polymorphic_function/atomic_function.py\u001b[0m in \u001b[0;36m__call__\u001b[0;34m(self, *args)\u001b[0m\n\u001b[1;32m    194\u001b[0m         \u001b[0;32mwith\u001b[0m \u001b[0mrecord\u001b[0m\u001b[0;34m.\u001b[0m\u001b[0mstop_recording\u001b[0m\u001b[0;34m(\u001b[0m\u001b[0;34m)\u001b[0m\u001b[0;34m:\u001b[0m\u001b[0;34m\u001b[0m\u001b[0;34m\u001b[0m\u001b[0m\n\u001b[1;32m    195\u001b[0m           \u001b[0;32mif\u001b[0m \u001b[0mself\u001b[0m\u001b[0;34m.\u001b[0m\u001b[0m_bound_context\u001b[0m\u001b[0;34m.\u001b[0m\u001b[0mexecuting_eagerly\u001b[0m\u001b[0;34m(\u001b[0m\u001b[0;34m)\u001b[0m\u001b[0;34m:\u001b[0m\u001b[0;34m\u001b[0m\u001b[0;34m\u001b[0m\u001b[0m\n\u001b[0;32m--> 196\u001b[0;31m             outputs = self._bound_context.call_function(\n\u001b[0m\u001b[1;32m    197\u001b[0m                 \u001b[0mself\u001b[0m\u001b[0;34m.\u001b[0m\u001b[0mname\u001b[0m\u001b[0;34m,\u001b[0m\u001b[0;34m\u001b[0m\u001b[0;34m\u001b[0m\u001b[0m\n\u001b[1;32m    198\u001b[0m                 \u001b[0mlist\u001b[0m\u001b[0;34m(\u001b[0m\u001b[0margs\u001b[0m\u001b[0;34m)\u001b[0m\u001b[0;34m,\u001b[0m\u001b[0;34m\u001b[0m\u001b[0;34m\u001b[0m\u001b[0m\n",
            "\u001b[0;32m/usr/local/lib/python3.10/dist-packages/tensorflow/python/eager/context.py\u001b[0m in \u001b[0;36mcall_function\u001b[0;34m(self, name, tensor_inputs, num_outputs)\u001b[0m\n\u001b[1;32m   1455\u001b[0m     \u001b[0mcancellation_context\u001b[0m \u001b[0;34m=\u001b[0m \u001b[0mcancellation\u001b[0m\u001b[0;34m.\u001b[0m\u001b[0mcontext\u001b[0m\u001b[0;34m(\u001b[0m\u001b[0;34m)\u001b[0m\u001b[0;34m\u001b[0m\u001b[0;34m\u001b[0m\u001b[0m\n\u001b[1;32m   1456\u001b[0m     \u001b[0;32mif\u001b[0m \u001b[0mcancellation_context\u001b[0m \u001b[0;32mis\u001b[0m \u001b[0;32mNone\u001b[0m\u001b[0;34m:\u001b[0m\u001b[0;34m\u001b[0m\u001b[0;34m\u001b[0m\u001b[0m\n\u001b[0;32m-> 1457\u001b[0;31m       outputs = execute.execute(\n\u001b[0m\u001b[1;32m   1458\u001b[0m           \u001b[0mname\u001b[0m\u001b[0;34m.\u001b[0m\u001b[0mdecode\u001b[0m\u001b[0;34m(\u001b[0m\u001b[0;34m\"utf-8\"\u001b[0m\u001b[0;34m)\u001b[0m\u001b[0;34m,\u001b[0m\u001b[0;34m\u001b[0m\u001b[0;34m\u001b[0m\u001b[0m\n\u001b[1;32m   1459\u001b[0m           \u001b[0mnum_outputs\u001b[0m\u001b[0;34m=\u001b[0m\u001b[0mnum_outputs\u001b[0m\u001b[0;34m,\u001b[0m\u001b[0;34m\u001b[0m\u001b[0;34m\u001b[0m\u001b[0m\n",
            "\u001b[0;32m/usr/local/lib/python3.10/dist-packages/tensorflow/python/eager/execute.py\u001b[0m in \u001b[0;36mquick_execute\u001b[0;34m(op_name, num_outputs, inputs, attrs, ctx, name)\u001b[0m\n\u001b[1;32m     51\u001b[0m   \u001b[0;32mtry\u001b[0m\u001b[0;34m:\u001b[0m\u001b[0;34m\u001b[0m\u001b[0;34m\u001b[0m\u001b[0m\n\u001b[1;32m     52\u001b[0m     \u001b[0mctx\u001b[0m\u001b[0;34m.\u001b[0m\u001b[0mensure_initialized\u001b[0m\u001b[0;34m(\u001b[0m\u001b[0;34m)\u001b[0m\u001b[0;34m\u001b[0m\u001b[0;34m\u001b[0m\u001b[0m\n\u001b[0;32m---> 53\u001b[0;31m     tensors = pywrap_tfe.TFE_Py_Execute(ctx._handle, device_name, op_name,\n\u001b[0m\u001b[1;32m     54\u001b[0m                                         inputs, attrs, num_outputs)\n\u001b[1;32m     55\u001b[0m   \u001b[0;32mexcept\u001b[0m \u001b[0mcore\u001b[0m\u001b[0;34m.\u001b[0m\u001b[0m_NotOkStatusException\u001b[0m \u001b[0;32mas\u001b[0m \u001b[0me\u001b[0m\u001b[0;34m:\u001b[0m\u001b[0;34m\u001b[0m\u001b[0;34m\u001b[0m\u001b[0m\n",
            "\u001b[0;31mKeyboardInterrupt\u001b[0m: "
          ]
        }
      ],
      "source": [
        "# Создаем модель RNN\n",
        "model = tf.keras.Sequential([\n",
        "    tf.keras.layers.Embedding(input_dim=len(tokenizer.word_index) + 1, output_dim=16, input_length=max_sequence_length),\n",
        "    tf.keras.layers.LSTM(32, return_sequences=True),\n",
        "    tf.keras.layers.Dense(len(tokenizer.word_index) + 1, activation='softmax')#,\n",
        "    # tf.keras.layers.Lambda(lambda x: tf.argmax(x, axis=2)),\n",
        "    # tf.keras.layers.Lambda(lambda x: tokenizer.sequences_to_texts(np.array(x)))\n",
        "])\n",
        "\n",
        "# Компилируем модель\n",
        "loss = tf.losses.SparseCategoricalCrossentropy()\n",
        "# Adadelta - бан, 0\n",
        "# Adagrad - 0.0361\n",
        "model.compile(optimizer='Adagrad', loss=loss, metrics=['accuracy'])\n",
        "\n",
        "# Обучаем модель на исходных и целевых последовательностях\n",
        "model.fit(np.array(source_100_pad, dtype='int64'), np.round(target_100_pad).astype('int64'), epochs=2000, verbose=2)\n",
        "model.save('/content/my_model.keras')"
      ]
    },
    {
      "cell_type": "markdown",
      "source": [
        "# Использование модели\n",
        "\n"
      ],
      "metadata": {
        "id": "yi04hVed6T_R"
      },
      "id": "yi04hVed6T_R"
    },
    {
      "cell_type": "code",
      "execution_count": 87,
      "id": "fd03f17e",
      "metadata": {
        "colab": {
          "base_uri": "https://localhost:8080/"
        },
        "id": "fd03f17e",
        "outputId": "c39f3254-1623-45fd-9b26-6af6105b591f"
      },
      "outputs": [
        {
          "output_type": "stream",
          "name": "stdout",
          "text": [
            "1/1 [==============================] - 0s 75ms/step\n",
            "1/1 [==============================] - 0s 67ms/step\n",
            "могиле <p>по <li>ответит <li>ответит <li>ответит <li>ответит <li>ответит <li>ответит <li>ответит <li>ответит <li>ответит <li>ответит <li>ответит <li>ответит <li>ответит <li>ответит <li>ответит <li>ответит <li>ответит <li>ответит <li>ответит <li>ответит <li>ответит <li>ответит <li>ответит <li>ответит <li>ответит <li>ответит <li>ответит <li>ответит <li>ответит <li>ответит <li>ответит <li>ответит <li>ответит <li>ответит <li>ответит <li>ответит <li>ответит <li>ответит <li>ответит <li>ответит <li>ответит <li>ответит <li>ответит <li>ответит <li>ответит <li>ответит <li>ответит <li>ответит <li>ответит <li>ответит <li>ответит <li>ответит <li>ответит <li>ответит <li>ответит <li>ответит <li>ответит <li>ответит <li>ответит <li>ответит <li>ответит <li>ответит <li>ответит <li>ответит <li>ответит <li>ответит <li>ответит <li>ответит <li>ответит <li>ответит <li>ответит <li>ответит <li>ответит <li>ответит <li>ответит <li>ответит <li>ответит <li>ответит <li>ответит <li>ответит <li>ответит <li>ответит <li>ответит <li>ответит <li>ответит <li>ответит <li>ответит <li>ответит <li>ответит <li>ответит <li>ответит <li>ответит <li>ответит <li>ответит <li>ответит <li>ответит <li>ответит <li>ответит <li>ответит <li>ответит <li>ответит <li>ответит <li>ответит <li>ответит <li>ответит <li>ответит <li>ответит <li>ответит <li>ответит <li>ответит <li>ответит <li>ответит <li>ответит <li>ответит <li>ответит <li>ответит <li>ответит <li>ответит <li>ответит <li>ответит <li>ответит <li>ответит <li>ответит <li>ответит <li>ответит <li>ответит <li>ответит <li>ответит <li>ответит <li>ответит <li>ответит\n"
          ]
        }
      ],
      "source": [
        "User_pred = []\n",
        "for row in User_X:\n",
        "  seq = tokenizer.texts_to_sequences(row)\n",
        "  pad_seq = pad_sequences(seq, maxlen=max_sequence_length, padding='post')\n",
        "  pred = tensor_to_text(model.predict(pad_seq))[0]\n",
        "  User_pred.append(pred)\n",
        "User_df = pd.DataFrame(User_pred, columns=['Вывод'])\n",
        "User_df.to_csv('output.csv')"
      ]
    },
    {
      "cell_type": "markdown",
      "source": [
        "Ваши ответы лежат в файле output.csv\n"
      ],
      "metadata": {
        "id": "_Jjv_nG8M7Za"
      },
      "id": "_Jjv_nG8M7Za"
    }
  ],
  "metadata": {
    "kernelspec": {
      "display_name": "Python 3 (ipykernel)",
      "language": "python",
      "name": "python3"
    },
    "language_info": {
      "codemirror_mode": {
        "name": "ipython",
        "version": 3
      },
      "file_extension": ".py",
      "mimetype": "text/x-python",
      "name": "python",
      "nbconvert_exporter": "python",
      "pygments_lexer": "ipython3",
      "version": "3.11.3"
    },
    "colab": {
      "provenance": []
    }
  },
  "nbformat": 4,
  "nbformat_minor": 5
}